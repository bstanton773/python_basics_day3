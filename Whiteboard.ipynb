{
 "cells": [
  {
   "cell_type": "code",
   "execution_count": 1,
   "metadata": {},
   "outputs": [
    {
     "data": {
      "text/plain": [
       "3"
      ]
     },
     "execution_count": 1,
     "metadata": {},
     "output_type": "execute_result"
    }
   ],
   "source": [
    "# Return the number (count) of vowels in the given string.\n",
    "\n",
    "# We will consider a, e, i, o, u as vowels (but not y).\n",
    "\n",
    "# The input string will only consist of lower case letters and/or spaces.\n",
    "\n",
    "# ex:\n",
    "# get_count('hello_world') => 3\n",
    "\n",
    "def get_count(string):\n",
    "    count = 0\n",
    "    for letter in string:\n",
    "        if letter in 'aeiou':\n",
    "            count += 1 # count = count + 1\n",
    "    return count\n",
    "\n",
    "get_count('Hello World')"
   ]
  },
  {
   "cell_type": "code",
   "execution_count": 3,
   "metadata": {},
   "outputs": [
    {
     "data": {
      "text/plain": [
       "True"
      ]
     },
     "execution_count": 3,
     "metadata": {},
     "output_type": "execute_result"
    }
   ],
   "source": []
  },
  {
   "cell_type": "code",
   "execution_count": null,
   "metadata": {},
   "outputs": [],
   "source": []
  }
 ],
 "metadata": {
  "kernelspec": {
   "display_name": "Python 3",
   "language": "python",
   "name": "python3"
  },
  "language_info": {
   "codemirror_mode": {
    "name": "ipython",
    "version": 3
   },
   "file_extension": ".py",
   "mimetype": "text/x-python",
   "name": "python",
   "nbconvert_exporter": "python",
   "pygments_lexer": "ipython3",
   "version": "3.8.5"
  }
 },
 "nbformat": 4,
 "nbformat_minor": 4
}
